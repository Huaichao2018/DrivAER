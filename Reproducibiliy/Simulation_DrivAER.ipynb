{
 "cells": [
  {
   "cell_type": "code",
   "execution_count": 36,
   "metadata": {},
   "outputs": [],
   "source": [
    "import DrivAER as dv\n",
    "import scanpy as sc\n",
    "import anndata as ad\n",
    "import pandas as pd\n",
    "import random\n",
    "\n",
    "sc.settings.verbosity = 1\n",
    "sc.set_figure_params(vector_friendly=True,dpi=40,transparent=True)"
   ]
  },
  {
   "cell_type": "code",
   "execution_count": 37,
   "metadata": {},
   "outputs": [
    {
     "name": "stdout",
     "output_type": "stream",
     "text": [
      "The rpy2.ipython extension is already loaded. To reload it, use:\n",
      "  %reload_ext rpy2.ipython\n"
     ]
    }
   ],
   "source": [
    "%load_ext rpy2.ipython"
   ]
  },
  {
   "cell_type": "markdown",
   "metadata": {},
   "source": [
    "## Simulate data"
   ]
  },
  {
   "cell_type": "code",
   "execution_count": 38,
   "metadata": {},
   "outputs": [
    {
     "name": "stderr",
     "output_type": "stream",
     "text": [
      "C:\\Users\\lukas.simon\\AppData\\Local\\Continuum\\anaconda3\\lib\\site-packages\\rpy2-2.9.4-py3.6-win-amd64.egg\\rpy2\\robjects\\pandas2ri.py:191: FutureWarning: from_items is deprecated. Please use DataFrame.from_dict(dict(items), ...) instead. DataFrame.from_dict(OrderedDict(items)) may be used to preserve the key order.\n",
      "  res = PandasDataFrame.from_items(items)\n"
     ]
    }
   ],
   "source": [
    "%%R -o count\n",
    "library('splatter')\n",
    "sim.groups <- splatSimulate(batchCells = 1000,\n",
    "                            seed=1,\n",
    "                            nGenes = 1000,\n",
    "                            group.prob = c(0.5, 0.5),\n",
    "                            de.prob = 0.1,\n",
    "                            mean.shape = 0.5,\n",
    "                            method = \"groups\",\n",
    "                            dropout.shape=-1,\n",
    "                            dropout.mid=3,\n",
    "                            dropout.type='experiment',\n",
    "                            verbose = FALSE)\n",
    "count <- as.data.frame(counts(sim.groups))"
   ]
  },
  {
   "cell_type": "code",
   "execution_count": 39,
   "metadata": {},
   "outputs": [],
   "source": [
    "%%R -o group\n",
    "group <- colData(sim.groups)[,3]"
   ]
  },
  {
   "cell_type": "code",
   "execution_count": 40,
   "metadata": {},
   "outputs": [],
   "source": [
    "%%R -o de\n",
    "de <- rowData(sim.groups)[,5]"
   ]
  },
  {
   "cell_type": "markdown",
   "metadata": {},
   "source": [
    "## Convert to anndata object"
   ]
  },
  {
   "cell_type": "code",
   "execution_count": 41,
   "metadata": {},
   "outputs": [],
   "source": [
    "import numpy as np\n",
    "count = np.array(count, dtype = 'int')\n",
    "counts = count.T\n",
    "counts = counts[np.where(np.sum(counts, 1) > 0)]\n",
    "\n",
    "sim_groups = ad.AnnData(counts)\n",
    "sim_groups.var_names = ['gene' + str(i) for i in range(0, counts.shape[1])]\n",
    "sim_groups.obs['group'] = group\n",
    "sim_groups.obs['group']= sim_groups.obs['group'].apply(str)\n",
    "sim_groups.var['DE'] = de\n",
    "sc.pp.filter_genes(sim_groups, min_counts=1)"
   ]
  },
  {
   "cell_type": "markdown",
   "metadata": {},
   "source": [
    "sim_groups.write('/Users/lukas.simon/OneDrive/Miko/UTHealth/projects/DrivAER/Simulation_two_groups.h5ad')"
   ]
  },
  {
   "cell_type": "code",
   "execution_count": 9,
   "metadata": {},
   "outputs": [],
   "source": [
    "def mix(n):\n",
    "    df = sim_groups.var.copy()\n",
    "    group_A = df[df['DE'] == 1].index.tolist()\n",
    "    group_B = df[df['DE'] != 1].index.tolist()\n",
    "    random.shuffle(group_A)\n",
    "    chunk, group_A = group_A[:n], group_A[n:]\n",
    "    group_B.extend(chunk)\n",
    "    return pd.Series([group_A, group_B], index=['control', 'true'])"
   ]
  },
  {
   "cell_type": "code",
   "execution_count": 9,
   "metadata": {},
   "outputs": [],
   "source": [
    "from DrivAER.dca_drivaer import *"
   ]
  },
  {
   "cell_type": "code",
   "execution_count": 10,
   "metadata": {},
   "outputs": [],
   "source": [
    "import os, tempfile, shutil, random\n",
    "import anndata\n",
    "import numpy as np\n",
    "import scanpy as sc\n",
    "import scipy as sp\n",
    "\n",
    "try:\n",
    "    import tensorflow as tf\n",
    "except ImportError:\n",
    "    raise ImportError('DCA requires tensorflow. Please follow instructions'\n",
    "                      ' at https://www.tensorflow.org/install/ to install'\n",
    "                      ' it.')\n",
    "\n",
    "\n",
    "#from dca.io import read_dataset\n",
    "from dca.train import train\n",
    "from dca.network import AE_types\n",
    "\n",
    "def read_dataset(adata, transpose=False, test_split=False, copy=False):\n",
    "\n",
    "    if isinstance(adata, sc.AnnData):\n",
    "        if copy:\n",
    "            adata = adata.copy()\n",
    "    elif isinstance(adata, str):\n",
    "        adata = sc.read(adata, first_column_names=True)\n",
    "    else:\n",
    "        raise NotImplementedError\n",
    "\n",
    "    # check if observations are unnormalized using first 10\n",
    "    X_subset = adata.X[:10]\n",
    "    norm_error = 'Make sure that the dataset (adata.X) contains unnormalized count data.'\n",
    "    if sp.sparse.issparse(X_subset):\n",
    "        assert (X_subset.astype(int) != X_subset).nnz == 0, norm_error\n",
    "    else:\n",
    "        assert np.all(X_subset.astype(int) == X_subset), norm_error\n",
    "\n",
    "    if transpose: adata = adata.transpose()\n",
    "\n",
    "    if test_split:\n",
    "        train_idx, test_idx = train_test_split(np.arange(adata.n_obs), test_size=0.1, random_state=42)\n",
    "        spl = pd.Series(['train'] * adata.n_obs)\n",
    "        spl.iloc[test_idx] = 'test'\n",
    "        adata.obs['dca_split'] = spl.values\n",
    "    else:\n",
    "        adata.obs['dca_split'] = 'train'\n",
    "\n",
    "        adata.obs['dca_split'] = adata.obs['dca_split'].astype('category')\n",
    "        #print('dca: Successfully preprocessed {} genes and {} cells.'.format(adata.n_vars, adata.n_obs))\n",
    "        return adata\n",
    "\n",
    "\n",
    "def dca_drivaer(adata,\n",
    "        mode='latent',\n",
    "        ae_type='zinb-conddisp',\n",
    "        normalize_per_cell=True,\n",
    "        scale=True,\n",
    "        log1p=True,\n",
    "        hidden_size=(64, 32, 64), # network args\n",
    "        hidden_dropout=0.,\n",
    "        batchnorm=True,\n",
    "        activation='relu',\n",
    "        init='glorot_uniform',\n",
    "        network_kwds={},\n",
    "        epochs=300,               # training args\n",
    "        reduce_lr=10,\n",
    "        early_stop=15,\n",
    "        batch_size=32,\n",
    "        optimizer='rmsprop',\n",
    "        learning_rate=None,\n",
    "        random_state=0,\n",
    "        threads=None,\n",
    "        verbose=False,\n",
    "        training_kwds={},\n",
    "        return_model=False,\n",
    "        return_info=False,\n",
    "        copy=False\n",
    "        ):\n",
    "    \"\"\"Deep count autoencoder(DCA) API.\n",
    "    Fits a count autoencoder to the count data given in the anndata object\n",
    "    in order to denoise the data and capture hidden representation of\n",
    "    cells in low dimensions. Type of the autoencoder and return values are\n",
    "    determined by the parameters.\n",
    "    Parameters\n",
    "    ----------\n",
    "    adata : :class:`~scanpy.api.AnnData`\n",
    "        An anndata file with `.raw` attribute representing raw counts.\n",
    "    mode : `str`, optional. `denoise`(default), or `latent`.\n",
    "        `denoise` overwrites `adata.X` with denoised expression values.\n",
    "        In `latent` mode DCA adds `adata.obsm['X_dca']` to given adata\n",
    "        object. This matrix represent latent representation of cells via DCA.\n",
    "    ae_type : `str`, optional. `zinb-conddisp`(default), `zinb`, `nb-conddisp` or `nb`.\n",
    "        Type of the autoencoder. Return values and the architecture is\n",
    "        determined by the type e.g. `nb` does not provide dropout\n",
    "        probabilities.\n",
    "    normalize_per_cell : `bool`, optional. Default: `True`.\n",
    "        If true, library size normalization is performed using\n",
    "        the `sc.pp.normalize_per_cell` function in Scanpy and saved into adata\n",
    "        object. Mean layer is re-introduces library size differences by\n",
    "        scaling the mean value of each cell in the output layer. See the\n",
    "        manuscript for more details.\n",
    "    scale : `bool`, optional. Default: `True`.\n",
    "        If true, the input of the autoencoder is centered using\n",
    "        `sc.pp.scale` function of Scanpy. Note that the output is kept as raw\n",
    "        counts as loss functions are designed for the count data.\n",
    "    log1p : `bool`, optional. Default: `True`.\n",
    "        If true, the input of the autoencoder is log transformed with a\n",
    "        pseudocount of one using `sc.pp.log1p` function of Scanpy.\n",
    "    hidden_size : `tuple` or `list`, optional. Default: (64, 32, 64).\n",
    "        Width of hidden layers.\n",
    "    hidden_dropout : `float`, `tuple` or `list`, optional. Default: 0.0.\n",
    "        Probability of weight dropout in the autoencoder (per layer if list\n",
    "        or tuple).\n",
    "    batchnorm : `bool`, optional. Default: `True`.\n",
    "        If true, batch normalization is performed.\n",
    "    activation : `str`, optional. Default: `relu`.\n",
    "        Activation function of hidden layers.\n",
    "    init : `str`, optional. Default: `glorot_uniform`.\n",
    "        Initialization method used to initialize weights.\n",
    "    network_kwds : `dict`, optional.\n",
    "        Additional keyword arguments for the autoencoder.\n",
    "    epochs : `int`, optional. Default: 300.\n",
    "        Number of total epochs in training.\n",
    "    reduce_lr : `int`, optional. Default: 10.\n",
    "        Reduces learning rate if validation loss does not improve in given number of epochs.\n",
    "    early_stop : `int`, optional. Default: 15.\n",
    "        Stops training if validation loss does not improve in given number of epochs.\n",
    "    batch_size : `int`, optional. Default: 32.\n",
    "        Number of samples in the batch used for SGD.\n",
    "    learning_rate : `float`, optional. Default: None.\n",
    "        Learning rate to use in the training.\n",
    "    optimizer : `str`, optional. Default: \"rmsprop\".\n",
    "        Type of optimization method used for training.\n",
    "    random_state : `int`, optional. Default: 0.\n",
    "        Seed for python, numpy and tensorflow.\n",
    "    threads : `int` or None, optional. Default: None\n",
    "        Number of threads to use in training. All cores are used by default.\n",
    "    verbose : `bool`, optional. Default: `False`.\n",
    "        If true, prints additional information about training and architecture.\n",
    "    training_kwds : `dict`, optional.\n",
    "        Additional keyword arguments for the training process.\n",
    "    return_model : `bool`, optional. Default: `False`.\n",
    "        If true, trained autoencoder object is returned. See \"Returns\".\n",
    "    return_info : `bool`, optional. Default: `False`.\n",
    "        If true, all additional parameters of DCA are stored in `adata.obsm` such as dropout\n",
    "        probabilities (obsm['X_dca_dropout']) and estimated dispersion values\n",
    "        (obsm['X_dca_dispersion']), in case that autoencoder is of type\n",
    "        zinb or zinb-conddisp.\n",
    "    copy : `bool`, optional. Default: `False`.\n",
    "        If true, a copy of anndata is returned.\n",
    "    Returns\n",
    "    -------\n",
    "    If `copy` is true and `return_model` is false, AnnData object is returned.\n",
    "    In \"denoise\" mode, `adata.X` is overwritten with the denoised values. In \"latent\" mode, latent\n",
    "    low dimensional representation of cells are stored in `adata.obsm['X_dca']` and `adata.X`\n",
    "    is not modified. Note that these values are not corrected for library size effects.\n",
    "    If `return_info` is true, all estimated distribution parameters are stored in AnnData such as:\n",
    "    - `.obsm[\"X_dca_dropout\"]` which is the mixture coefficient (pi) of the zero component\n",
    "    in ZINB, i.e. dropout probability. (Only if ae_type is zinb or zinb-conddisp)\n",
    "    - `.obsm[\"X_dca_dispersion\"]` which is the dispersion parameter of NB.\n",
    "    - `.uns[\"dca_loss_history\"]` which stores the loss history of the training.\n",
    "    Finally, the raw counts are stored as `.raw`.\n",
    "    If `return_model` is given, trained model is returned. When both `copy` and `return_model`\n",
    "    are true, a tuple of anndata and model is returned in that order.\n",
    "    \"\"\"\n",
    "\n",
    "    assert isinstance(adata, anndata.AnnData), 'adata must be an AnnData instance'\n",
    "    assert mode in ('denoise', 'latent'), '%s is not a valid mode.' % mode\n",
    "\n",
    "    # set seed for reproducibility\n",
    "    random.seed(random_state)\n",
    "    np.random.seed(random_state)\n",
    "    tf.set_random_seed(random_state)\n",
    "    os.environ['PYTHONHASHSEED'] = '0'\n",
    "\n",
    "    # this creates adata.raw with raw counts and copies adata if copy==True\n",
    "    adata = read_dataset(adata,\n",
    "                        transpose=False,\n",
    "                        test_split=False,\n",
    "                        copy=copy)\n",
    "    # check for zero genes\n",
    "    nonzero_genes, _ = sc.pp.filter_genes(adata.X, min_counts=1)\n",
    "    assert nonzero_genes.all(), 'Please remove all-zero genes before using DCA.'\n",
    "\n",
    "    def normalize_drivaer(adata, filter_min_counts=True, size_factors=True, normalize_input=True, logtrans_input=True):\n",
    "\n",
    "        #genes = list(set(adata.var_names).intersection(set(genes)))\n",
    "        if filter_min_counts:\n",
    "            sc.pp.filter_genes(adata, min_counts=1)\n",
    "            sc.pp.filter_cells(adata, min_counts=1)\n",
    "\n",
    "        if size_factors or normalize_input or logtrans_input:\n",
    "            adata.raw = adata.copy()\n",
    "        else:\n",
    "            adata.raw = adata\n",
    "\n",
    "        if size_factors:\n",
    "            sc.pp.normalize_per_cell(adata)\n",
    "            if not \"size_factors\" in adata.obs_keys():\n",
    "                adata.obs['size_factors'] = adata.obs.n_counts / np.median(adata.obs.n_counts)\n",
    "        else:\n",
    "            adata.obs['size_factors'] = 1.0\n",
    "\n",
    "        if logtrans_input:\n",
    "            sc.pp.log1p(adata)\n",
    "\n",
    "        if normalize_input:\n",
    "            sc.pp.scale(adata)\n",
    "\n",
    "        print('dca: Successfully preprocessed {} genes and {} cells.'.format(adata.n_vars, adata.n_obs))\n",
    "\n",
    "        return adata\n",
    "\n",
    "    adata = normalize_drivaer(adata,\n",
    "                    filter_min_counts=False, # no filtering, keep cell and gene idxs same\n",
    "                    size_factors=normalize_per_cell,\n",
    "                    normalize_input=scale,\n",
    "                    logtrans_input=log1p)\n",
    "\n",
    "    network_kwds = {**network_kwds,\n",
    "        'hidden_size': hidden_size,\n",
    "        'hidden_dropout': hidden_dropout,\n",
    "        'batchnorm': batchnorm,\n",
    "        'activation': activation,\n",
    "        'init': init\n",
    "    }\n",
    "\n",
    "    input_size = output_size = adata.n_vars\n",
    "    net = AE_types[ae_type](input_size=input_size,\n",
    "                            output_size=output_size,\n",
    "                            **network_kwds)\n",
    "    net.save()\n",
    "    net.build()\n",
    "\n",
    "    training_kwds = {**training_kwds,\n",
    "        'epochs': epochs,\n",
    "        'reduce_lr': reduce_lr,\n",
    "        'early_stop': early_stop,\n",
    "        'batch_size': batch_size,\n",
    "        'optimizer': optimizer,\n",
    "        'verbose': verbose,\n",
    "        'threads': threads,\n",
    "        'learning_rate': learning_rate\n",
    "    }\n",
    "\n",
    "    hist = train(adata[adata.obs.dca_split == 'train'], net, **training_kwds)\n",
    "    res = net.predict(adata, mode)#, return_info, copy)\n",
    "    adata = res if copy else adata\n",
    "\n",
    "    if return_info:\n",
    "        adata.uns['dca_loss_history'] = hist.history\n",
    "\n",
    "    if return_model:\n",
    "        return (adata, net) if copy else net\n",
    "    else:\n",
    "        return adata if copy else None\n"
   ]
  },
  {
   "cell_type": "code",
   "execution_count": 25,
   "metadata": {},
   "outputs": [],
   "source": [
    "#from .dca_drivaer import dca_drivaer\n",
    "import tensorflow\n",
    "import scanpy as sc\n",
    "import pandas as pd\n",
    "import os\n",
    "import anndata as ad\n",
    "import numpy as np\n",
    "from sklearn.ensemble import RandomForestRegressor as RFR\n",
    "from sklearn.ensemble import RandomForestClassifier as RFC\n",
    "from sklearn.cluster import DBSCAN\n",
    "from sklearn.preprocessing import StandardScaler\n",
    "import numbers\n",
    "import scipy\n",
    "\n",
    "def calc_relevance(count, pheno, tf_targets, min_targets,\n",
    "                   ae_type=\"nb-conddisp\", epochs=100, early_stop=3,\n",
    "                   hidden_size=(8, 2, 8), verbose=False):\n",
    "\n",
    "    sc.pp.filter_genes(count, min_counts=1)\n",
    "    gene = count.var_names.tolist()\n",
    "    # Restrict to expressed target genes\n",
    "    tf_targets = tf_targets.map(lambda x: sorted(list(set(x) & set(gene))))\n",
    "    # Restrict to TFs with at least min_targets genes\n",
    "    targets =  tf_targets[tf_targets.map(lambda x: len(x) >= min_targets)]\n",
    "\n",
    "    my_counter = [0]\n",
    "\n",
    "    def fun_dca(v):\n",
    "        my_counter[0] += 1\n",
    "        print(f'{my_counter[0]} / {len(targets)}')\n",
    "\n",
    "        tmp = count.copy()\n",
    "        if(scipy.sparse.issparse(tmp.X)):\n",
    "            tmp.X = tmp.X.toarray()\n",
    "        tmp = ad.AnnData(tmp.X + 1)\n",
    "        sc.pp.normalize_per_cell(tmp)\n",
    "        size_factors = tmp.obs.n_counts/np.median(tmp.obs.n_counts)\n",
    "\n",
    "        tmp = count[:,v].copy()\n",
    "        if(scipy.sparse.issparse(tmp.X)):\n",
    "            tmp.X = tmp.X.toarray()\n",
    "        tmp = ad.AnnData(tmp.X + 1)\n",
    "        tmp.obs[\"size_factors\"]=size_factors\n",
    "\n",
    "        ret = dca_drivaer(tmp, mode='latent',ae_type=ae_type,epochs=epochs,\n",
    "        early_stop=early_stop,hidden_size=hidden_size,verbose=verbose,copy=True)\n",
    "        return(ret[\"reduced\"])\n",
    "\n",
    "    embed = targets.map(fun_dca)\n",
    "\n",
    "    # Random forest\n",
    "    def fun_rfr(x):\n",
    "        clf = RFR(n_estimators=500, oob_score = True)\n",
    "        rf_fit = clf.fit(X = x, y= pheno)\n",
    "        return rf_fit.oob_score_\n",
    "\n",
    "    def fun_rfc(x):\n",
    "        clf = RFC(n_estimators=500, oob_score = True)\n",
    "        rf_fit = clf.fit(X = x, y= pd.factorize(pheno)[0])\n",
    "        return rf_fit.oob_score_\n",
    "\n",
    "    if isinstance(pheno[0], numbers.Number):\n",
    "        rele_score = embed.map(fun_rfr)\n",
    "    else:\n",
    "        rele_score = embed.map(fun_rfc)\n",
    "\n",
    "    return embed,rele_score\n"
   ]
  },
  {
   "cell_type": "code",
   "execution_count": 12,
   "metadata": {},
   "outputs": [],
   "source": [
    "import matplotlib.pyplot as plt\n",
    "import seaborn as sns\n",
    "import pandas as pd\n",
    "import numbers\n",
    "import scanpy as sc\n",
    "import rpy2.robjects as ro\n",
    "import statsmodels.api as sm\n",
    "from dca.api import dca\n",
    "\n",
    "def rank_plot(result, save = False):\n",
    "    score = pd.DataFrame(list(result[1].items()), columns=['Signature', 'Relevance Score'])\n",
    "    score = score.sort_values('Relevance Score',ascending=False)\n",
    "    new_df = score.head(5)\n",
    "    new_df = new_df.append(score.tail(5))\n",
    "    plt.figure(figsize=(10,10))\n",
    "    ax = sns.barplot(x=\"Relevance Score\", y=\"Signature\", data=new_df, palette=sns.color_palette(\"Blues_r\",10))\n",
    "    plt.xticks(rotation='horizontal',fontsize=20)\n",
    "    plt.yticks(fontsize=26)\n",
    "    plt.xlabel('Relevance Score', fontsize=22)\n",
    "    ax.grid(b=True, which='major', color='#d3d3d3', linewidth=0.5)\n",
    "    fig = plt.gcf()\n",
    "    plt.show()\n",
    "    if save:\n",
    "        fig.savefig(path + '/rank.svg', bbox_inches='tight')\n",
    "    top_TF = score.head(n=5)['Signature'].tolist()\n",
    "    print(\"Top_TF\",\":\",top_TF)\n",
    "    worse_TF = score.tail(n=5)['Signature'].tolist()\n",
    "    print(\"Worse_TF\",\":\",worse_TF)\n",
    "\n",
    "def embedding_plot(result, tf_name, pheno, save = False):\n",
    "    em = pd.DataFrame(result[0][tf_name],columns=['dca1','dca2'])\n",
    "    plt.figure(figsize=(10, 8))\n",
    "\n",
    "    if isinstance(pheno[0], numbers.Number):\n",
    "        plt.scatter(em.dca1, em.dca2,c = pheno)\n",
    "        cbar = plt.colorbar()\n",
    "        cbar.set_label(\"pseudotime\", labelpad=+1)\n",
    "    else:\n",
    "        em['group'] = pheno.values\n",
    "        em = em.sample(frac=1)\n",
    "        plt.figure(figsize=(10, 8))\n",
    "        sns.scatterplot(x='dca1', y='dca2', hue=\"group\", data=em, s=50)\n",
    "    plt.title(tf_name, fontsize=30)\n",
    "    plt.xlabel(\"dca1\", fontsize=30)\n",
    "    plt.ylabel(\"dca2\", fontsize=30)\n",
    "    fig = plt.gcf()\n",
    "    plt.show()\n",
    "    if save:\n",
    "        fig.savefig(path + tf_name + '.svg', bbox_inches='tight')\n",
    "\n",
    "def gene_plot(result,tf_name,gene,count,pheno,save = False):\n",
    "    em = pd.DataFrame(result[0][tf_name],columns=['dca1','dca2'])\n",
    "    plt.figure(figsize=(10,8))\n",
    "    if isinstance(pheno[0], numbers.Number):\n",
    "        sc.pp.scale(count)\n",
    "        expr = count[:,gene].X\n",
    "        expr[expr > 2] = 2\n",
    "        plt.scatter(em['dca1'], em['dca2'],c = expr)\n",
    "        cbar = plt.colorbar()\n",
    "        cbar.set_label(\"expression\", labelpad=+1)\n",
    "    else:\n",
    "        em = em.set_index(count.obs.index)\n",
    "        em['Value'] = pd.DataFrame(count[:,gene].X).values\n",
    "        plt.figure(figsize=(10,8))\n",
    "        cmap = sns.cubehelix_palette(dark=.2, light=0.9, as_cmap=True)\n",
    "        sns.scatterplot(x='dca1', y='dca2', hue=\"Value\",hue_norm=(-2,2),data=em,s=30,palette=cmap)\n",
    "    plt.title(gene,fontsize=30)\n",
    "    plt.xlabel(\"dca1\",fontsize=30)\n",
    "    plt.ylabel(\"dca2\",fontsize=30)\n",
    "    fig = plt.gcf()\n",
    "    plt.show()\n",
    "    if save:\n",
    "        fig.savefig(path + gene + '.svg', bbox_inches='tight')\n"
   ]
  },
  {
   "cell_type": "markdown",
   "metadata": {},
   "source": [
    "## Run DrivAER"
   ]
  },
  {
   "cell_type": "markdown",
   "metadata": {},
   "source": [
    "### Define function to generate simulated gene sets"
   ]
  },
  {
   "cell_type": "code",
   "execution_count": 13,
   "metadata": {},
   "outputs": [],
   "source": [
    "def generate_simulated_geneset(fraction = 0.9):\n",
    "    df = sim_groups.var.copy()\n",
    "    genes_nonde = df[df['DE'] == 1].index.tolist()\n",
    "    genes_de = df[df['DE'] != 1].index.tolist()\n",
    "    geneset = np.random.choice(np.array(genes_de), round(len(genes_de) * fraction), replace = False).tolist()\n",
    "    random = np.random.choice(np.array(genes_nonde), round(len(genes_de) * (1 - fraction)), replace = False).tolist()\n",
    "    geneset += random\n",
    "    random = np.random.choice(np.array(genes_nonde), len(genes_de), replace = False).tolist()\n",
    "    return pd.Series([random, geneset], index = ['random', 'true'])"
   ]
  },
  {
   "cell_type": "code",
   "execution_count": 32,
   "metadata": {},
   "outputs": [
    {
     "name": "stdout",
     "output_type": "stream",
     "text": [
      "1 / 2\n",
      "dca: Successfully preprocessed 94 genes and 1000 cells.\n",
      "Calculating low dimensional representations...\n",
      "Calculating reconstructions...\n",
      "2 / 2\n",
      "dca: Successfully preprocessed 94 genes and 1000 cells.\n",
      "Calculating low dimensional representations...\n",
      "Calculating reconstructions...\n",
      "1 / 2\n",
      "dca: Successfully preprocessed 94 genes and 1000 cells.\n",
      "Calculating low dimensional representations...\n",
      "Calculating reconstructions...\n",
      "2 / 2\n",
      "dca: Successfully preprocessed 94 genes and 1000 cells.\n",
      "Calculating low dimensional representations...\n",
      "Calculating reconstructions...\n",
      "1 / 2\n",
      "dca: Successfully preprocessed 94 genes and 1000 cells.\n",
      "Calculating low dimensional representations...\n",
      "Calculating reconstructions...\n",
      "2 / 2\n",
      "dca: Successfully preprocessed 94 genes and 1000 cells.\n",
      "Calculating low dimensional representations...\n",
      "Calculating reconstructions...\n",
      "1 / 2\n",
      "dca: Successfully preprocessed 94 genes and 1000 cells.\n",
      "Calculating low dimensional representations...\n",
      "Calculating reconstructions...\n",
      "2 / 2\n",
      "dca: Successfully preprocessed 94 genes and 1000 cells.\n",
      "Calculating low dimensional representations...\n",
      "Calculating reconstructions...\n",
      "1 / 2\n",
      "dca: Successfully preprocessed 94 genes and 1000 cells.\n",
      "Calculating low dimensional representations...\n",
      "Calculating reconstructions...\n",
      "2 / 2\n",
      "dca: Successfully preprocessed 94 genes and 1000 cells.\n",
      "Calculating low dimensional representations...\n",
      "Calculating reconstructions...\n",
      "1 / 2\n",
      "dca: Successfully preprocessed 94 genes and 1000 cells.\n",
      "Calculating low dimensional representations...\n",
      "Calculating reconstructions...\n",
      "2 / 2\n",
      "dca: Successfully preprocessed 94 genes and 1000 cells.\n",
      "Calculating low dimensional representations...\n",
      "Calculating reconstructions...\n",
      "1 / 2\n",
      "dca: Successfully preprocessed 94 genes and 1000 cells.\n",
      "Calculating low dimensional representations...\n",
      "Calculating reconstructions...\n",
      "2 / 2\n",
      "dca: Successfully preprocessed 94 genes and 1000 cells.\n",
      "Calculating low dimensional representations...\n",
      "Calculating reconstructions...\n",
      "1 / 2\n",
      "dca: Successfully preprocessed 94 genes and 1000 cells.\n",
      "Calculating low dimensional representations...\n",
      "Calculating reconstructions...\n",
      "2 / 2\n",
      "dca: Successfully preprocessed 94 genes and 1000 cells.\n",
      "Calculating low dimensional representations...\n",
      "Calculating reconstructions...\n",
      "1 / 2\n",
      "dca: Successfully preprocessed 94 genes and 1000 cells.\n",
      "Calculating low dimensional representations...\n",
      "Calculating reconstructions...\n",
      "2 / 2\n",
      "dca: Successfully preprocessed 94 genes and 1000 cells.\n",
      "Calculating low dimensional representations...\n",
      "Calculating reconstructions...\n",
      "1 / 2\n",
      "dca: Successfully preprocessed 94 genes and 1000 cells.\n",
      "Calculating low dimensional representations...\n",
      "Calculating reconstructions...\n",
      "2 / 2\n",
      "dca: Successfully preprocessed 94 genes and 1000 cells.\n",
      "Calculating low dimensional representations...\n",
      "Calculating reconstructions...\n",
      "1 / 2\n",
      "dca: Successfully preprocessed 94 genes and 1000 cells.\n",
      "Calculating low dimensional representations...\n",
      "Calculating reconstructions...\n",
      "2 / 2\n",
      "dca: Successfully preprocessed 94 genes and 1000 cells.\n",
      "Calculating low dimensional representations...\n",
      "Calculating reconstructions...\n",
      "1 / 2\n",
      "dca: Successfully preprocessed 94 genes and 1000 cells.\n",
      "Calculating low dimensional representations...\n",
      "Calculating reconstructions...\n",
      "2 / 2\n",
      "dca: Successfully preprocessed 94 genes and 1000 cells.\n",
      "Calculating low dimensional representations...\n",
      "Calculating reconstructions...\n",
      "1 / 2\n",
      "dca: Successfully preprocessed 94 genes and 1000 cells.\n",
      "Calculating low dimensional representations...\n",
      "Calculating reconstructions...\n",
      "2 / 2\n",
      "dca: Successfully preprocessed 94 genes and 1000 cells.\n",
      "Calculating low dimensional representations...\n",
      "Calculating reconstructions...\n",
      "1 / 2\n",
      "dca: Successfully preprocessed 94 genes and 1000 cells.\n",
      "Calculating low dimensional representations...\n",
      "Calculating reconstructions...\n",
      "2 / 2\n",
      "dca: Successfully preprocessed 94 genes and 1000 cells.\n",
      "Calculating low dimensional representations...\n",
      "Calculating reconstructions...\n",
      "1 / 2\n",
      "dca: Successfully preprocessed 94 genes and 1000 cells.\n",
      "Calculating low dimensional representations...\n",
      "Calculating reconstructions...\n",
      "2 / 2\n",
      "dca: Successfully preprocessed 94 genes and 1000 cells.\n",
      "Calculating low dimensional representations...\n",
      "Calculating reconstructions...\n",
      "Wall time: 23min 12s\n"
     ]
    }
   ],
   "source": [
    "%%time\n",
    "accs = {}\n",
    "#for i in [0.1, 0.2, 0.3, 0.4, 0.5, 0.6, 0.7, 0.8, 0.9, 1.0]:\n",
    "for i in [0.2, 0.4, 0.6, 0.8, 1.0]:\n",
    "    random_list = []\n",
    "    true_list = []\n",
    "    for x in range(0,3):\n",
    "        res = calc_relevance(count=sim_groups, pheno = sim_groups.obs['group'], tf_targets = generate_simulated_geneset(i), min_targets=1, verbose = False)\n",
    "        random_list.append(res[1][0])\n",
    "        true_list.append(res[1][1])\n",
    "    accs.update({'random' + str(i): random_list})\n",
    "    accs.update({'true' + str(i): true_list})"
   ]
  },
  {
   "cell_type": "markdown",
   "metadata": {},
   "source": [
    "## Plot relevance scores"
   ]
  },
  {
   "cell_type": "code",
   "execution_count": 33,
   "metadata": {},
   "outputs": [],
   "source": [
    "df = pd.DataFrame(accs)"
   ]
  },
  {
   "cell_type": "code",
   "execution_count": 34,
   "metadata": {},
   "outputs": [
    {
     "name": "stderr",
     "output_type": "stream",
     "text": [
      "C:\\Users\\lukas.simon\\AppData\\Local\\Continuum\\anaconda3\\lib\\site-packages\\rpy2-2.9.4-py3.6-win-amd64.egg\\rpy2\\robjects\\pandas2ri.py:191: FutureWarning: from_items is deprecated. Please use DataFrame.from_dict(dict(items), ...) instead. DataFrame.from_dict(OrderedDict(items)) may be used to preserve the key order.\n",
      "  res = PandasDataFrame.from_items(items)\n"
     ]
    },
    {
     "data": {
      "image/png": "[encoded data removed]"
     },
     "metadata": {},
     "output_type": "display_data"
    }
   ],
   "source": [
    "%%R -i df -o pvals\n",
    "\n",
    "boxplot(df, las = 2, ylab = 'Relevance score', outline = F, main = 'DrivAER')\n",
    "pvals <- c(t.test(df[,1], df[,2])$p.value, \n",
    "              t.test(df[,1], df[,4])$p.value,\n",
    "              t.test(df[,1], df[,6])$p.value,\n",
    "              t.test(df[,1], df[,8])$p.value,\n",
    "              t.test(df[,1], df[,10])$p.value)"
   ]
  },
  {
   "cell_type": "code",
   "execution_count": 35,
   "metadata": {},
   "outputs": [
    {
     "data": {
      "text/html": [
       "\n",
       "    <span>FloatVector with 5 elements.</span>\n",
       "    <table>\n",
       "      <tbody>\n",
       "      <tr>\n",
       "      \n",
       "      <td>\n",
       "        0.316929\n",
       "      </td>\n",
       "      \n",
       "      <td>\n",
       "        0.036214\n",
       "      </td>\n",
       "      \n",
       "      <td>\n",
       "        0.137584\n",
       "      </td>\n",
       "      \n",
       "      <td>\n",
       "        0.001080\n",
       "      </td>\n",
       "      \n",
       "      <td>\n",
       "        0.001185\n",
       "      </td>\n",
       "      \n",
       "      </tr>\n",
       "      </tbody>\n",
       "    </table>\n",
       "    "
      ],
      "text/plain": [
       "R object with classes: ('numeric',) mapped to:\n",
       "<FloatVector - Python:0x00000001933B1648 / R:0x000000003875A8B0>\n",
       "[0.316929, 0.036214, 0.137584, 0.001080, 0.001185]"
      ]
     },
     "execution_count": 35,
     "metadata": {},
     "output_type": "execute_result"
    }
   ],
   "source": [
    "pvals"
   ]
  },
  {
   "cell_type": "code",
   "execution_count": 15,
   "metadata": {},
   "outputs": [],
   "source": [
    "def calc_relevance_pca(adata, pheno, tf_targets, min_targets):\n",
    "\n",
    "    gene = adata.var_names.tolist()\n",
    "    # Restrict to expressed target genes\n",
    "    tf_targets = tf_targets.map(lambda x: sorted(list(set(x) & set(gene))))\n",
    "    # Restrict to TFs with at least min_targets genes\n",
    "    targets =  tf_targets[tf_targets.map(lambda x: len(x) >= min_targets)]\n",
    "\n",
    "    my_counter = [0]\n",
    "\n",
    "    def fun_dca(v):\n",
    "        my_counter[0] += 1\n",
    "        #print(f'{my_counter[0]} / {len(targets)}')\n",
    "\n",
    "        tmp = adata[:,v].copy()\n",
    "        sc.pp.pca(tmp, n_comps= 2)\n",
    "        \n",
    "        ret = tmp.obsm['X_pca'][:,0:1]\n",
    "        return(ret)\n",
    "\n",
    "    embed = targets.map(fun_dca)\n",
    "\n",
    "    # Random forest\n",
    "    def fun_rfr(x):\n",
    "        clf = RFR(n_estimators=500, oob_score = True)\n",
    "        rf_fit = clf.fit(X = x, y= pheno)\n",
    "        return rf_fit.oob_score_\n",
    "\n",
    "    def fun_rfc(x):\n",
    "        clf = RFC(n_estimators=500, oob_score = True)\n",
    "        rf_fit = clf.fit(X = x, y= pd.factorize(pheno)[0])\n",
    "        return rf_fit.oob_score_\n",
    "\n",
    "    if isinstance(pheno[0], numbers.Number):\n",
    "        rele_score = embed.map(fun_rfr)\n",
    "    else:\n",
    "        rele_score = embed.map(fun_rfc)\n",
    "\n",
    "    return embed,rele_score\n",
    "\n",
    "def calc_relevance_umap(adata, pheno, tf_targets, min_targets):\n",
    "\n",
    "    gene = adata.var_names.tolist()\n",
    "    # Restrict to expressed target genes\n",
    "    tf_targets = tf_targets.map(lambda x: sorted(list(set(x) & set(gene))))\n",
    "    # Restrict to TFs with at least min_targets genes\n",
    "    targets =  tf_targets[tf_targets.map(lambda x: len(x) >= min_targets)]\n",
    "\n",
    "    my_counter = [0]\n",
    "\n",
    "    def fun_dca(v):\n",
    "        my_counter[0] += 1\n",
    "        #print(f'{my_counter[0]} / {len(targets)}')\n",
    "\n",
    "        tmp = adata[:,v].copy()\n",
    "        sc.pp.pca(tmp)\n",
    "        sc.pp.neighbors(tmp)\n",
    "        sc.tl.umap(tmp)\n",
    "        \n",
    "        ret = tmp.obsm['X_umap']\n",
    "        return(ret)\n",
    "\n",
    "    embed = targets.map(fun_dca)\n",
    "\n",
    "    # Random forest\n",
    "    def fun_rfr(x):\n",
    "        clf = RFR(n_estimators=500, oob_score = True)\n",
    "        rf_fit = clf.fit(X = x, y= pheno)\n",
    "        return rf_fit.oob_score_\n",
    "\n",
    "    def fun_rfc(x):\n",
    "        clf = RFC(n_estimators=500, oob_score = True)\n",
    "        rf_fit = clf.fit(X = x, y= pd.factorize(pheno)[0])\n",
    "        return rf_fit.oob_score_\n",
    "\n",
    "    if isinstance(pheno[0], numbers.Number):\n",
    "        rele_score = embed.map(fun_rfr)\n",
    "    else:\n",
    "        rele_score = embed.map(fun_rfc)\n",
    "\n",
    "    return embed,rele_score\n",
    "\n",
    "def calc_relevance_tsne(adata, pheno, tf_targets, min_targets):\n",
    "\n",
    "    gene = adata.var_names.tolist()\n",
    "    # Restrict to expressed target genes\n",
    "    tf_targets = tf_targets.map(lambda x: sorted(list(set(x) & set(gene))))\n",
    "    # Restrict to TFs with at least min_targets genes\n",
    "    targets =  tf_targets[tf_targets.map(lambda x: len(x) >= min_targets)]\n",
    "\n",
    "    my_counter = [0]\n",
    "\n",
    "    def fun_dca(v):\n",
    "        my_counter[0] += 1\n",
    "        #print(f'{my_counter[0]} / {len(targets)}')\n",
    "\n",
    "        tmp = adata[:,v].copy()\n",
    "        sc.pp.pca(tmp)\n",
    "        sc.pp.neighbors(tmp)\n",
    "        sc.tl.tsne(tmp)\n",
    "        \n",
    "        ret = tmp.obsm['X_tsne']\n",
    "        return(ret)\n",
    "\n",
    "    embed = targets.map(fun_dca)\n",
    "\n",
    "    # Random forest\n",
    "    def fun_rfr(x):\n",
    "        clf = RFR(n_estimators=500, oob_score = True)\n",
    "        rf_fit = clf.fit(X = x, y= pheno)\n",
    "        return rf_fit.oob_score_\n",
    "\n",
    "    def fun_rfc(x):\n",
    "        clf = RFC(n_estimators=500, oob_score = True)\n",
    "        rf_fit = clf.fit(X = x, y= pd.factorize(pheno)[0])\n",
    "        return rf_fit.oob_score_\n",
    "\n",
    "    if isinstance(pheno[0], numbers.Number):\n",
    "        rele_score = embed.map(fun_rfr)\n",
    "    else:\n",
    "        rele_score = embed.map(fun_rfc)\n",
    "\n",
    "    return embed,rele_score"
   ]
  },
  {
   "cell_type": "code",
   "execution_count": 16,
   "metadata": {},
   "outputs": [],
   "source": [
    "adata = sc.pp.normalize_per_cell(sim_groups, copy=True)\n",
    "sc.pp.scale(adata)"
   ]
  },
  {
   "cell_type": "code",
   "execution_count": 17,
   "metadata": {},
   "outputs": [],
   "source": [
    "accs_pca = {}\n",
    "for i in [0.2, 0.4, 0.6, 0.8, 1.0]:\n",
    "    random_list = []\n",
    "    true_list = []\n",
    "    for x in range(0,3):\n",
    "        res = calc_relevance_pca(adata=adata, pheno = sim_groups.obs['group'], tf_targets = generate_simulated_geneset(i), min_targets=1)\n",
    "        random_list.append(res[1][0])\n",
    "        true_list.append(res[1][1])\n",
    "    accs_pca.update({'random' + str(i): random_list})\n",
    "    accs_pca.update({'true' + str(i): true_list})"
   ]
  },
  {
   "cell_type": "code",
   "execution_count": 44,
   "metadata": {},
   "outputs": [
    {
     "data": {
      "text/plain": [
       "{'random0.2': [0.8366666666666667, 0.815],\n",
       " 'true0.2': [0.9566666666666667, 0.9383333333333334],\n",
       " 'random0.4': [0.6733333333333333, 0.9066666666666666],\n",
       " 'true0.4': [1.0, 1.0],\n",
       " 'random0.6': [0.8316666666666667, 0.5033333333333333],\n",
       " 'true0.6': [1.0, 1.0],\n",
       " 'random0.8': [0.845, 0.9583333333333334],\n",
       " 'true0.8': [1.0, 1.0],\n",
       " 'random1.0': [0.875, 0.9433333333333334],\n",
       " 'true1.0': [1.0, 1.0]}"
      ]
     },
     "execution_count": 44,
     "metadata": {},
     "output_type": "execute_result"
    }
   ],
   "source": [
    "accs_pca"
   ]
  },
  {
   "cell_type": "code",
   "execution_count": 18,
   "metadata": {},
   "outputs": [
    {
     "name": "stderr",
     "output_type": "stream",
     "text": [
      "C:\\Users\\lukas.simon\\AppData\\Local\\Continuum\\anaconda3\\lib\\site-packages\\umap\\umap_.py:328: NumbaWarning: \n",
      "Compilation is falling back to object mode WITH looplifting enabled because Function \"fuzzy_simplicial_set\" failed type inference due to: Untyped global name 'nearest_neighbors': cannot determine Numba type of <class 'function'>\n",
      "\n",
      "File \"..\\..\\..\\..\\AppData\\Local\\Continuum\\anaconda3\\lib\\site-packages\\umap\\umap_.py\", line 446:\n",
      "def fuzzy_simplicial_set(\n",
      "    <source elided>\n",
      "    if knn_indices is None or knn_dists is None:\n",
      "        knn_indices, knn_dists, _ = nearest_neighbors(\n",
      "        ^\n",
      "\n",
      "  @numba.jit()\n",
      "2020-04-29 14:58:49,720 [INFO] finding looplift candidates\n",
      "C:\\Users\\lukas.simon\\AppData\\Local\\Continuum\\anaconda3\\lib\\site-packages\\numba\\object_mode_passes.py:178: NumbaWarning: Function \"fuzzy_simplicial_set\" was compiled in object mode without forceobj=True.\n",
      "\n",
      "File \"..\\..\\..\\..\\AppData\\Local\\Continuum\\anaconda3\\lib\\site-packages\\umap\\umap_.py\", line 329:\n",
      "@numba.jit()\n",
      "def fuzzy_simplicial_set(\n",
      "^\n",
      "\n",
      "  state.func_ir.loc))\n",
      "C:\\Users\\lukas.simon\\AppData\\Local\\Continuum\\anaconda3\\lib\\site-packages\\numba\\object_mode_passes.py:188: NumbaDeprecationWarning: \n",
      "Fall-back from the nopython compilation path to the object mode compilation path has been detected, this is deprecated behaviour.\n",
      "\n",
      "For more information visit http://numba.pydata.org/numba-doc/latest/reference/deprecation.html#deprecation-of-object-mode-fall-back-behaviour-when-using-jit\n",
      "\n",
      "File \"..\\..\\..\\..\\AppData\\Local\\Continuum\\anaconda3\\lib\\site-packages\\umap\\umap_.py\", line 329:\n",
      "@numba.jit()\n",
      "def fuzzy_simplicial_set(\n",
      "^\n",
      "\n",
      "  state.func_ir.loc))\n"
     ]
    }
   ],
   "source": [
    "accs_umap = {}\n",
    "for i in [0.2, 0.4, 0.6, 0.8, 1.0]:\n",
    "    random_list = []\n",
    "    true_list = []\n",
    "    for x in range(0,3):\n",
    "        res = calc_relevance_umap(adata=adata, pheno = sim_groups.obs['group'], tf_targets = generate_simulated_geneset(i), min_targets=1)\n",
    "        random_list.append(res[1][0])\n",
    "        true_list.append(res[1][1])\n",
    "    accs_umap.update({'random' + str(i): random_list})\n",
    "    accs_umap.update({'true' + str(i): true_list})"
   ]
  },
  {
   "cell_type": "code",
   "execution_count": 45,
   "metadata": {},
   "outputs": [
    {
     "data": {
      "text/plain": [
       "{'random0.2': [0.75, 0.9016666666666666],\n",
       " 'true0.2': [0.9933333333333333, 0.9916666666666667],\n",
       " 'random0.4': [0.8666666666666667, 0.62],\n",
       " 'true0.4': [0.995, 1.0],\n",
       " 'random0.6': [0.8583333333333333, 0.5816666666666667],\n",
       " 'true0.6': [0.9966666666666667, 0.9983333333333333],\n",
       " 'random0.8': [0.6966666666666667, 0.7416666666666667],\n",
       " 'true0.8': [1.0, 1.0],\n",
       " 'random1.0': [0.6566666666666666, 0.53],\n",
       " 'true1.0': [1.0, 1.0]}"
      ]
     },
     "execution_count": 45,
     "metadata": {},
     "output_type": "execute_result"
    }
   ],
   "source": [
    "accs_umap"
   ]
  },
  {
   "cell_type": "code",
   "execution_count": 19,
   "metadata": {},
   "outputs": [],
   "source": [
    "accs_tsne = {}\n",
    "for i in [0.2, 0.4, 0.6, 0.8, 1.0]:\n",
    "    random_list = []\n",
    "    true_list = []\n",
    "    for x in range(0,3):\n",
    "        res = calc_relevance_umap(adata=adata, pheno = sim_groups.obs['group'], tf_targets = generate_simulated_geneset(i), min_targets=1)\n",
    "        random_list.append(res[1][0])\n",
    "        true_list.append(res[1][1])\n",
    "    accs_tsne.update({'random' + str(i): random_list})\n",
    "    accs_tsne.update({'true' + str(i): true_list})"
   ]
  },
  {
   "cell_type": "code",
   "execution_count": 48,
   "metadata": {},
   "outputs": [
    {
     "data": {
      "text/plain": [
       "{'random0.2': [0.6716666666666666, 0.9233333333333333],\n",
       " 'true0.2': [0.9766666666666667, 0.955],\n",
       " 'random0.4': [0.775, 0.6566666666666666],\n",
       " 'true0.4': [0.995, 1.0],\n",
       " 'random0.6': [0.735, 0.7683333333333333],\n",
       " 'true0.6': [1.0, 0.9983333333333333],\n",
       " 'random0.8': [0.7183333333333334, 0.74],\n",
       " 'true0.8': [1.0, 1.0],\n",
       " 'random1.0': [0.9016666666666666, 0.9166666666666666],\n",
       " 'true1.0': [1.0, 1.0]}"
      ]
     },
     "execution_count": 48,
     "metadata": {},
     "output_type": "execute_result"
    }
   ],
   "source": [
    "accs_tsne"
   ]
  },
  {
   "cell_type": "code",
   "execution_count": 21,
   "metadata": {},
   "outputs": [
    {
     "data": {
      "text/plain": [
       "<matplotlib.axes._subplots.AxesSubplot at 0xb6309198>"
      ]
     },
     "execution_count": 21,
     "metadata": {},
     "output_type": "execute_result"
    },
    {
     "data": {
      "image/png": "[encoded data removed]",
      "text/plain": [
       "<Figure size 432x288 with 1 Axes>"
      ]
     },
     "metadata": {
      "needs_background": "light"
     },
     "output_type": "display_data"
    }
   ],
   "source": [
    "pd.DataFrame(accs).boxplot()\n",
    "#pd.DataFrame(accs_pca).boxplot()\n",
    "#pd.DataFrame(accs_umap).boxplot()\n",
    "#pd.DataFrame(accs_tsne).boxplot()"
   ]
  },
  {
   "cell_type": "code",
   "execution_count": 22,
   "metadata": {},
   "outputs": [
    {
     "data": {
      "text/plain": [
       "<matplotlib.axes._subplots.AxesSubplot at 0xb5eadc18>"
      ]
     },
     "execution_count": 22,
     "metadata": {},
     "output_type": "execute_result"
    },
    {
     "data": {
      "image/png": "[encoded data removed]",
      "text/plain": [
       "<Figure size 432x288 with 1 Axes>"
      ]
     },
     "metadata": {
      "needs_background": "light"
     },
     "output_type": "display_data"
    }
   ],
   "source": [
    "pd.DataFrame(accs_pca).boxplot()"
   ]
  },
  {
   "cell_type": "code",
   "execution_count": 23,
   "metadata": {},
   "outputs": [
    {
     "data": {
      "text/plain": [
       "<matplotlib.axes._subplots.AxesSubplot at 0xb59e1a90>"
      ]
     },
     "execution_count": 23,
     "metadata": {},
     "output_type": "execute_result"
    },
    {
     "data": {
      "image/png": "[encoded data removed]",
      "text/plain": [
       "<Figure size 432x288 with 1 Axes>"
      ]
     },
     "metadata": {
      "needs_background": "light"
     },
     "output_type": "display_data"
    }
   ],
   "source": [
    "pd.DataFrame(accs_umap).boxplot()"
   ]
  },
  {
   "cell_type": "code",
   "execution_count": 24,
   "metadata": {},
   "outputs": [
    {
     "data": {
      "text/plain": [
       "<matplotlib.axes._subplots.AxesSubplot at 0xb6211dd8>"
      ]
     },
     "execution_count": 24,
     "metadata": {},
     "output_type": "execute_result"
    },
    {
     "data": {
      "image/png": "[encoded data removed]",
      "text/plain": [
       "<Figure size 432x288 with 1 Axes>"
      ]
     },
     "metadata": {
      "needs_background": "light"
     },
     "output_type": "display_data"
    }
   ],
   "source": [
    "pd.DataFrame(accs_tsne).boxplot()"
   ]
  },
  {
   "cell_type": "code",
   "execution_count": 49,
   "metadata": {},
   "outputs": [],
   "source": [
    "df = pd.DataFrame(accs_umap)"
   ]
  },
  {
   "cell_type": "code",
   "execution_count": 50,
   "metadata": {
    "scrolled": true
   },
   "outputs": [
    {
     "name": "stderr",
     "output_type": "stream",
     "text": [
      "C:\\Users\\lukas.simon\\AppData\\Local\\Continuum\\anaconda3\\lib\\site-packages\\rpy2-2.9.4-py3.6-win-amd64.egg\\rpy2\\robjects\\pandas2ri.py:191: FutureWarning: from_items is deprecated. Please use DataFrame.from_dict(dict(items), ...) instead. DataFrame.from_dict(OrderedDict(items)) may be used to preserve the key order.\n",
      "  res = PandasDataFrame.from_items(items)\n"
     ]
    },
    {
     "data": {
      "image/png": "[encoded data removed]"
     },
     "metadata": {},
     "output_type": "display_data"
    }
   ],
   "source": [
    "%%R -i df\n",
    "boxplot(df, las = 2, ylab = 'Relevance score', outline = F, main = 'UMAP')"
   ]
  },
  {
   "cell_type": "code",
   "execution_count": 51,
   "metadata": {},
   "outputs": [],
   "source": [
    "df = pd.DataFrame(accs_tsne)"
   ]
  },
  {
   "cell_type": "code",
   "execution_count": 52,
   "metadata": {
    "scrolled": true
   },
   "outputs": [
    {
     "data": {
      "image/png": "[encoded data removed]"
     },
     "metadata": {},
     "output_type": "display_data"
    }
   ],
   "source": [
    "%%R -i df\n",
    "boxplot(df, las = 2, ylab = 'Relevance score', outline = F, main = 'TSNE')"
   ]
  }
 ],
 "metadata": {
  "kernelspec": {
   "display_name": "Python 3",
   "language": "python",
   "name": "python3"
  },
  "language_info": {
   "codemirror_mode": {
    "name": "ipython",
    "version": 3
   },
   "file_extension": ".py",
   "mimetype": "text/x-python",
   "name": "python",
   "nbconvert_exporter": "python",
   "pygments_lexer": "ipython3",
   "version": "3.6.6"
  }
 },
 "nbformat": 4,
 "nbformat_minor": 2
}
