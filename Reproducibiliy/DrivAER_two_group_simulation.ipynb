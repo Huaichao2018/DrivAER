{
  "nbformat": 4,
  "nbformat_minor": 0,
  "metadata": {
    "colab": {
      "name": "DrivAER - two group simulation",
      "provenance": [],
      "collapsed_sections": []
    },
    "kernelspec": {
      "name": "python3",
      "display_name": "Python 3"
    },
    "accelerator": "GPU"
  },
  "cells": [
    {
      "cell_type": "markdown",
      "metadata": {
        "id": "7f-n4dHgisUy"
      },
      "source": [
        "This colab notebook contains an analysis example using [DrivAER](https://github.com/lkmklsmn/DrivAER). The code evaluates DrivAER in simulated scRNAseq data."
      ]
    },
    {
      "cell_type": "markdown",
      "metadata": {
        "id": "n5DcarmCjXRQ"
      },
      "source": [
        "Install all required packages. This may take ~5(!) minutes."
      ]
    },
    {
      "cell_type": "code",
      "metadata": {
        "id": "4gyX5Eh8UoWW"
      },
      "source": [
        "%%capture\n",
        "!pip install git+https://github.com/lkmklsmn/DrivAER.git\n",
        "!pip install scanpy==1.4.6\n",
        "!pip install tensorflow-gpu==1.15.4\n",
        "!pip install keras==2.3.1"
      ],
      "execution_count": null,
      "outputs": []
    },
    {
      "cell_type": "markdown",
      "metadata": {
        "id": "nEuSZyt7jjIb"
      },
      "source": [
        "Import required packages."
      ]
    },
    {
      "cell_type": "code",
      "metadata": {
        "id": "TFweT85585ij"
      },
      "source": [
        "%%capture\n",
        "import DrivAER as dv\n",
        "import numpy as np\n",
        "import pandas as pd\n",
        "import anndata as ad\n",
        "import matplotlib.pyplot as pl\n",
        "from matplotlib import rcParams\n",
        "import scanpy as sc\n",
        "import warnings\n",
        "sc.settings.verbosity = 1\n",
        "sc.logging.print_versions()\n",
        "warnings.filterwarnings(\"ignore\")"
      ],
      "execution_count": null,
      "outputs": []
    },
    {
      "cell_type": "markdown",
      "metadata": {
        "id": "ZaFhHUhHjdU-"
      },
      "source": [
        "Download and load the Scanpy AnnData object containing the simulated scRNAseq data."
      ]
    },
    {
      "cell_type": "code",
      "metadata": {
        "id": "E_i0Z9A1U01D"
      },
      "source": [
        "%%capture\n",
        "!wget --no-check-certificate 'https://drive.google.com/uc?export=download&id=1rYQk2U3ZbkPJou6D6podHTUeNRSJWSQ8' -O \"two_group_simulation_gene_info.csv\"\n",
        "!wget --no-check-certificate 'https://drive.google.com/uc?export=download&id=1U4GIXV5F4KDEdrjZAlgagelknOn4B7gy' -O \"two_group_simulation_counts.csv\"\n",
        "!wget --no-check-certificate 'https://drive.google.com/uc?export=download&id=1unW1LeOeXtym6isZHWIrV7PS8Wsg62ds' -O \"two_group_simulation_cell_info.csv\""
      ],
      "execution_count": null,
      "outputs": []
    },
    {
      "cell_type": "code",
      "metadata": {
        "id": "ijg6WWW8QOsJ",
        "outputId": "f360dd8b-097d-4a60-cd31-ecf5f101f523",
        "colab": {
          "base_uri": "https://localhost:8080/",
          "height": 51
        }
      },
      "source": [
        "ls"
      ],
      "execution_count": null,
      "outputs": [
        {
          "output_type": "stream",
          "text": [
            "\u001b[0m\u001b[01;34msample_data\u001b[0m/                        two_group_simulation_counts.csv\n",
            "two_group_simulation_cell_info.csv  two_group_simulation_gene_info.csv\n"
          ],
          "name": "stdout"
        }
      ]
    },
    {
      "cell_type": "code",
      "metadata": {
        "id": "fk84bFw9SoZI",
        "outputId": "e35fb01f-fd72-4c2e-959e-e90d78799346",
        "colab": {
          "base_uri": "https://localhost:8080/",
          "height": 68
        }
      },
      "source": [
        "adata = sc.read('two_group_simulation_counts.csv').T\n",
        "adata.obs = pd.read_csv('two_group_simulation_cell_info.csv')\n",
        "gene_info = pd.read_csv('two_group_simulation_gene_info.csv')\n",
        "adata.var['DE'] = np.array(gene_info['DEFacGroup1'] == gene_info['DEFacGroup2'])\n",
        "adata"
      ],
      "execution_count": null,
      "outputs": [
        {
          "output_type": "execute_result",
          "data": {
            "text/plain": [
              "AnnData object with n_obs × n_vars = 2000 × 500\n",
              "    obs: 'Unnamed: 0', 'Cell', 'Batch', 'Group', 'ExpLibSize', 'sizeFactor'\n",
              "    var: 'DE'"
            ]
          },
          "metadata": {
            "tags": []
          },
          "execution_count": 5
        }
      ]
    },
    {
      "cell_type": "markdown",
      "metadata": {
        "id": "BKAxsWx-3nia"
      },
      "source": [
        "Define function to create gene sets with varying levels of noise."
      ]
    },
    {
      "cell_type": "code",
      "metadata": {
        "id": "Cc9EgHsbI8qA"
      },
      "source": [
        "def generate_simulated_geneset_2(fraction = 0.9):\n",
        "    df = adata.var.copy()\n",
        "    genes_nonde = df[df['DE'] == 1].index.tolist()\n",
        "    genes_de = df[df['DE'] != 1].index.tolist()\n",
        "    geneset = np.random.choice(np.array(genes_de), round(len(genes_de) * fraction), replace = False).tolist()\n",
        "    random = np.random.choice(np.array(genes_nonde), round(len(genes_de) * (1 - fraction)), replace = False).tolist()\n",
        "    geneset += random\n",
        "    return geneset\n",
        "\n",
        "genesets = []\n",
        "for i in [0, 0.2, 0.4, 0.6, 0.8, 1.0]:\n",
        "  for x in range(0, 10):\n",
        "    genesets.append(generate_simulated_geneset_2(i))"
      ],
      "execution_count": null,
      "outputs": []
    },
    {
      "cell_type": "markdown",
      "metadata": {
        "id": "VcZTXoETiiGJ"
      },
      "source": [
        "Run DrivAER"
      ]
    },
    {
      "cell_type": "code",
      "metadata": {
        "id": "uV4XFSSyPE0y"
      },
      "source": [
        "%%time\n",
        "res = dv.calc_relevance(count=adata, pheno = adata.obs['Group'], ae_type='zinb-conddisp', \n",
        "                        tf_targets = pd.Series(genesets), epochs = 100, early_stop = 3, min_targets=1, verbose = False)"
      ],
      "execution_count": null,
      "outputs": []
    },
    {
      "cell_type": "markdown",
      "metadata": {
        "id": "HicTb3vqxK6Y"
      },
      "source": [
        "Normalize data"
      ]
    },
    {
      "cell_type": "code",
      "metadata": {
        "id": "uDjAUYC8nFHM"
      },
      "source": [
        "sc.pp.normalize_per_cell(adata)\n",
        "sc.pp.log1p(adata)"
      ],
      "execution_count": null,
      "outputs": []
    },
    {
      "cell_type": "code",
      "metadata": {
        "id": "UpJq6_iqb4yd"
      },
      "source": [
        "from sklearn.ensemble import RandomForestRegressor as RFR\n",
        "from sklearn.ensemble import RandomForestClassifier as RFC\n",
        "from sklearn.preprocessing import StandardScaler\n",
        "import numbers\n",
        "import scipy\n",
        "from DrivAER.rele_score import calc_relevance_pca, calc_relevance_tsne, calc_relevance_umap"
      ],
      "execution_count": null,
      "outputs": []
    },
    {
      "cell_type": "markdown",
      "metadata": {
        "id": "S3rfVhGYZ3ct"
      },
      "source": [
        "Run DrivAER using PCA, tSNE and UMAP for dimension reduction"
      ]
    },
    {
      "cell_type": "code",
      "metadata": {
        "id": "K201tjiaVz5N",
        "outputId": "272d3091-0705-401e-ade9-8dee0e39c076",
        "colab": {
          "base_uri": "https://localhost:8080/",
          "height": 51
        }
      },
      "source": [
        "%%time\n",
        "res_pca = calc_relevance_pca(adata=adata, pheno = adata.obs['Group'], tf_targets = pd.Series(genesets), min_targets=1)\n",
        "res_tsne = calc_relevance_tsne(adata=adata, pheno = adata.obs['Group'], tf_targets = pd.Series(genesets), min_targets=1)\n",
        "res_umap = calc_relevance_umap(adata=adata, pheno = adata.obs['Group'], tf_targets = pd.Series(genesets), min_targets=1)"
      ],
      "execution_count": null,
      "outputs": [
        {
          "output_type": "stream",
          "text": [
            "CPU times: user 44min 13s, sys: 26.6 s, total: 44min 40s\n",
            "Wall time: 28min 42s\n"
          ],
          "name": "stdout"
        }
      ]
    },
    {
      "cell_type": "markdown",
      "metadata": {
        "id": "Jp8uTVoU9maL"
      },
      "source": [
        "Compare accuracies across different dimension reduction techniques"
      ]
    },
    {
      "cell_type": "code",
      "metadata": {
        "id": "CBDDvoZY9jvO"
      },
      "source": [
        "fraction = []\n",
        "for i in [0, 0.2, 0.4, 0.6, 0.8, 1.0]:\n",
        "  fraction += [i]*10\n",
        "\n",
        "accuracies = pd.DataFrame({'fraction':fraction, 'drivaer':res[1], 'pca':res_pca[1], 'umap':res_umap[1], 'tsne':res_tsne[1]})\n",
        "accuracies.to_csv('accuracies.csv')"
      ],
      "execution_count": null,
      "outputs": []
    },
    {
      "cell_type": "code",
      "metadata": {
        "id": "k8lfiF0lr7vV"
      },
      "source": [
        "combined_res=[]\n",
        "for i in [res[1], res_pca[1], res_umap[1], res_tsne[1]]:\n",
        "  combined_res += list(i)\n",
        "\n",
        "method=[]\n",
        "for i in ['drivaer', 'pca', 'umap', 'tsne']:\n",
        "  method += [i] * len(genesets)"
      ],
      "execution_count": null,
      "outputs": []
    },
    {
      "cell_type": "code",
      "metadata": {
        "id": "miDdxcppJxdb"
      },
      "source": [
        "combined_res=[]\n",
        "for i in [accuracies['drivaer'], accuracies['pca'], accuracies['umap'], accuracies['tsne']]:\n",
        "  combined_res += list(i)\n",
        "method = []\n",
        "for i in ['drivaer', 'pca', 'umap', 'tsne']:\n",
        "  method += [i] * 60\n",
        "fraction = []\n",
        "#for i in [0.0, 0.1, 0.2, 0.3, 0.4, 0.5, 0.6, 0.7, 0.8, 0.9, 1.0]:\n",
        "for i in [0, 0.2, 0.4, 0.6, 0.8, 1.0]:\n",
        "  fraction += [i]*10"
      ],
      "execution_count": null,
      "outputs": []
    },
    {
      "cell_type": "code",
      "metadata": {
        "id": "GMYDDVKJsc8B",
        "outputId": "94f9e93f-6b45-49d8-fd62-383d07567a20",
        "colab": {
          "base_uri": "https://localhost:8080/",
          "height": 284
        }
      },
      "source": [
        "import seaborn as sns; sns.set()\n",
        "import matplotlib.pyplot as plt\n",
        "accs = pd.DataFrame({'fraction': fraction * 4, 'relevance score': combined_res, 'method': method})\n",
        "ax = sns.lineplot(x=\"fraction\", y=\"relevance score\", hue=\"method\", data=accs)"
      ],
      "execution_count": null,
      "outputs": [
        {
          "output_type": "display_data",
          "data": {
            "image/png": "[encoded data removed]",
            "text/plain": [
              "<Figure size 432x288 with 1 Axes>"
            ]
          },
          "metadata": {
            "tags": []
          }
        }
      ]
    },
    {
      "cell_type": "markdown",
      "metadata": {
        "id": "Cd8stWg8ZpoZ"
      },
      "source": [
        "Run DrivAER with different bottleneck configurations"
      ]
    },
    {
      "cell_type": "code",
      "metadata": {
        "id": "cHZ2nhsGl9A3",
        "outputId": "503a82c4-978c-4593-a742-9ed1f3638ed7",
        "colab": {
          "base_uri": "https://localhost:8080/",
          "height": 68
        }
      },
      "source": [
        "adata = sc.read('two_group_simulation_counts.csv').T\n",
        "adata.obs = pd.read_csv('two_group_simulation_cell_info.csv')\n",
        "gene_info = pd.read_csv('two_group_simulation_gene_info.csv')\n",
        "adata.var['DE'] = np.array(gene_info['DEFacGroup1'] == gene_info['DEFacGroup2'])\n",
        "adata"
      ],
      "execution_count": null,
      "outputs": [
        {
          "output_type": "execute_result",
          "data": {
            "text/plain": [
              "AnnData object with n_obs × n_vars = 2000 × 500\n",
              "    obs: 'Unnamed: 0', 'Cell', 'Batch', 'Group', 'ExpLibSize', 'sizeFactor'\n",
              "    var: 'DE'"
            ]
          },
          "metadata": {
            "tags": []
          },
          "execution_count": 16
        }
      ]
    },
    {
      "cell_type": "code",
      "metadata": {
        "id": "pKzlPRxWnkO_"
      },
      "source": [
        "%%time\n",
        "res_2 = dv.calc_relevance(count=adata, pheno = adata.obs['Group'], ae_type='zinb-conddisp', hidden_size=(8, 2, 8),\n",
        "                        tf_targets = pd.Series(genesets), epochs = 100, early_stop = 3, min_targets=1, verbose = False)\n",
        "res_4 = dv.calc_relevance(count=adata, pheno = adata.obs['Group'], ae_type='zinb-conddisp', hidden_size=(16, 4, 16),\n",
        "                        tf_targets = pd.Series(genesets), epochs = 100, early_stop = 3, min_targets=1, verbose = False)\n",
        "res_8 = dv.calc_relevance(count=adata, pheno = adata.obs['Group'], ae_type='zinb-conddisp', hidden_size=(16, 8, 16),\n",
        "                        tf_targets = pd.Series(genesets), epochs = 100, early_stop = 3, min_targets=1, verbose = False)"
      ],
      "execution_count": null,
      "outputs": []
    },
    {
      "cell_type": "code",
      "metadata": {
        "id": "jsGiR-oS8VPi"
      },
      "source": [
        "accs = pd.DataFrame({'fraction': fraction, 'hidden_size2': res_2[1],'hidden_size4': res_4[1], 'hidden_size8': res_8[1]})\n",
        "accs.to_csv('hidden_size_diff_accuracies.csv')"
      ],
      "execution_count": null,
      "outputs": []
    }
  ]
}